{
  "nbformat": 4,
  "nbformat_minor": 0,
  "metadata": {
    "colab": {
      "provenance": [],
      "authorship_tag": "ABX9TyMsdMAnIsbgTNrxkNaNXttW",
      "include_colab_link": true
    },
    "kernelspec": {
      "name": "python3",
      "display_name": "Python 3"
    },
    "language_info": {
      "name": "python"
    }
  },
  "cells": [
    {
      "cell_type": "markdown",
      "metadata": {
        "id": "view-in-github",
        "colab_type": "text"
      },
      "source": [
        "<a href=\"https://colab.research.google.com/github/pikijhon/Machine_Learning/blob/main/Praktikum/Machine_Learning.ipynb\" target=\"_parent\"><img src=\"https://colab.research.google.com/assets/colab-badge.svg\" alt=\"Open In Colab\"/></a>"
      ]
    },
    {
      "cell_type": "code",
      "execution_count": 2,
      "metadata": {
        "id": "fRko9uEwvjrT",
        "colab": {
          "base_uri": "https://localhost:8080/"
        },
        "outputId": "34f0f982-8d61-41ab-dcd4-d26f40b7aae1"
      },
      "outputs": [
        {
          "output_type": "stream",
          "name": "stdout",
          "text": [
            " ——Toko Darmajaya The Best———-\n",
            "masukan harga barang: 20000\n",
            "masukan jumlah baju yang dibeli: 2\n",
            "Total Harga =  Rp. 40000\n",
            "Jumlah Nominal Uang =100000\n",
            "Uang Kembalian =  Rp. 60000\n"
          ]
        }
      ],
      "source": [
        "print(\" ——Toko Darmajaya The Best———-\")\n",
        "#input data\n",
        "harga= int(input(\"masukan harga barang: \"))\n",
        "jumlah= int(input(\"masukan jumlah baju yang dibeli: \"))\n",
        "Total=harga*jumlah\n",
        "print(\"Total Harga = \", \"Rp.\",Total)\n",
        "Bayar=int(input(\"Jumlah Nominal Uang =\" ))\n",
        "Kembalian= (Bayar-Total)\n",
        "print(\"Uang Kembalian = \", \"Rp.\",Kembalian)"
      ]
    }
  ]
}